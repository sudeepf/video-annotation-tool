{
 "cells": [
  {
   "cell_type": "code",
   "execution_count": 1,
   "metadata": {
    "collapsed": false
   },
   "outputs": [],
   "source": [
    "import xml.etree.ElementTree as ET\n",
    "import numpy as np\n",
    "import matplotlib.pyplot as plt\n",
    "import KCFpy.kcftracker as kcf\n",
    "from os import listdir\n",
    "import os\n",
    "from os.path import isfile, join\n",
    "import cv2"
   ]
  },
  {
   "cell_type": "code",
   "execution_count": 2,
   "metadata": {
    "collapsed": true
   },
   "outputs": [],
   "source": [
    "selectingObject = False\n",
    "initTracking = False\n",
    "onTracking = False\n",
    "ix, iy, cx, cy = -1, -1, -1, -1\n",
    "w, h = 0, 0\n",
    "DatasetDir = 'ValidationSet'\n",
    "inteval = 1\n",
    "duration = 0.01"
   ]
  },
  {
   "cell_type": "code",
   "execution_count": 3,
   "metadata": {
    "collapsed": false
   },
   "outputs": [],
   "source": [
    "# mouse callback function\n",
    "def draw_boundingbox(event, x, y, flags, param):\n",
    "    global selectingObject, initTracking, onTracking, ix, iy, cx,cy, w, h\n",
    "    \n",
    "    if event == cv2.EVENT_LBUTTONDOWN:\n",
    "        selectingObject = True\n",
    "        onTracking = False\n",
    "        ix, iy = x, y\n",
    "        cx, cy = x, y\n",
    "    \n",
    "    elif event == cv2.EVENT_MOUSEMOVE:\n",
    "        cx, cy = x, y\n",
    "\n",
    "    elif event == cv2.EVENT_LBUTTONUP:\n",
    "        selectingObject = False\n",
    "        if(abs(x-ix)>10 and abs(y-iy)>10):\n",
    "            w, h = abs(x - ix), abs(y - iy)\n",
    "            ix, iy = min(x, ix), min(y, iy)\n",
    "            initTracking = True\n",
    "        else:\n",
    "            onTracking = False\n",
    "    \n",
    "    elif event == cv2.EVENT_RBUTTONDOWN:\n",
    "        onTracking = False\n",
    "        if(w>0):\n",
    "            ix, iy = x-w/2, y-h/2\n",
    "            initTracking = True\n",
    "\n"
   ]
  },
  {
   "cell_type": "code",
   "execution_count": 4,
   "metadata": {
    "collapsed": true
   },
   "outputs": [],
   "source": [
    "class XmlListConfig(list):\n",
    "    def __init__(self, aList):\n",
    "        for element in aList:\n",
    "            if element:\n",
    "                if len(element) == 1 or element[0].tag != element[1].tag:\n",
    "                    self.append(XmlDictConfig(element))\n",
    "                elif element[0].tag == element[1].tag:\n",
    "                    self.append(XmlListConfig(element))\n",
    "            elif element.text:\n",
    "                text = element.text.strip()\n",
    "                if text:\n",
    "                    self.append(text)\n",
    "\n",
    "\n",
    "class XmlDictConfig(dict):\n",
    "    def __init__(self, parent_element):\n",
    "        if parent_element.items():\n",
    "            self.update(dict(parent_element.items()))\n",
    "        for element in parent_element:\n",
    "            if element:\n",
    "                if len(element) == 1 or element[0].tag != element[1].tag:\n",
    "                    aDict = XmlDictConfig(element)\n",
    "                else:\n",
    "                    aDict = {element[0].tag: XmlListConfig(element)}\n",
    "                if element.items():\n",
    "                    aDict.update(dict(element.items()))\n",
    "                if element.tag in self.keys():\n",
    "                    self[element.tag].append(aDict)\n",
    "                else:\n",
    "                    self.update({element.tag: [aDict]})\n",
    "            \n",
    "            elif element.items():\n",
    "                self.update({element.tag: dict(element.items())})\n",
    "            else:\n",
    "                self.update({element.tag: element.text})"
   ]
  },
  {
   "cell_type": "code",
   "execution_count": 5,
   "metadata": {
    "collapsed": true
   },
   "outputs": [],
   "source": [
    "def extract_rect(ddict):\n",
    "    \"\"\"\n",
    "     This function returns a numpy array of Nx4 where N is number of frames\n",
    "    currently supports only 1 object in the video\n",
    "    :param ddict: input dict\n",
    "    :return: numpy array\n",
    "    \"\"\"\n",
    "    if len(ddict['object']) > 1:\n",
    "        return NULL\n",
    "    \n",
    "    # list to store the data to return\n",
    "    bbox_list = []\n",
    "    # Format of data should be [top left h w]\n",
    "    for frame in ddict['object'][0]['polygon']:\n",
    "        bbox_list.append([int(frame['pt'][0]['x']), int(frame['pt'][0]['y']),\n",
    "                          int(frame['pt'][3]['x']) - int(frame['pt'][1]['x']),\n",
    "                          int(frame['pt'][1]['y']) - int(frame['pt'][0]['y']),])\n",
    "    \n",
    "    return np.array(bbox_list)\n",
    "  "
   ]
  },
  {
   "cell_type": "code",
   "execution_count": 6,
   "metadata": {
    "collapsed": true
   },
   "outputs": [],
   "source": [
    "def extract_file(file_name):\n",
    "    \"\"\"\n",
    "    This function extract bbox coordinates from the list in the given file\n",
    "    :param file_name: file path of Ground truth\n",
    "    :return: a numpy array of bounding boxes\n",
    "    \"\"\"\n",
    "    return np.loadtxt(file_name, delimiter=',')"
   ]
  },
  {
   "cell_type": "code",
   "execution_count": 7,
   "metadata": {
    "collapsed": true
   },
   "outputs": [],
   "source": [
    "def get_intersection_over_union(boxA, boxB):\n",
    "    # determine the (x, y)-coordinates of the intersection rectangle\n",
    "    xA = max(boxA[0], boxB[0])\n",
    "    yA = max(boxA[1], boxB[1])\n",
    "    xB = min(boxA[2] + boxA[0], boxB[2] + boxB[0])\n",
    "    yB = min(boxA[3] + boxA[1], boxB[3] + boxB[1])\n",
    "    \n",
    "    # compute the area of intersection rectangle\n",
    "    interArea = (xB - xA + 1) * (yB - yA + 1)\n",
    "    \n",
    "    # compute the area of both the prediction and ground-truth\n",
    "    # rectangles\n",
    "    boxAArea = (boxA[2] + 1) * (boxA[3] + 1)\n",
    "    boxBArea = (boxB[2] + 1) * (boxB[3] + 1)\n",
    "    \n",
    "    # compute the intersection over union by taking the intersection\n",
    "    # area and dividing it by the sum of prediction + ground-truth\n",
    "    # areas - the interesection area\n",
    "    iou = interArea / float(boxAArea + boxBArea - interArea)\n",
    "    \n",
    "    # return the intersection over union value\n",
    "    return iou\n"
   ]
  },
  {
   "cell_type": "code",
   "execution_count": 8,
   "metadata": {
    "collapsed": true
   },
   "outputs": [],
   "source": [
    "def get_accuracy_robustness_curve(ious, threshold_steps = 0.05):\n",
    "    \n",
    "    def frange(x, y, jump):\n",
    "        while x < y:\n",
    "            yield x\n",
    "            x += jump\n",
    "    print ious\n",
    "    acc = []\n",
    "    rob = []\n",
    "    for th in frange(0.0, 1.0, threshold_steps):\n",
    "        count_tp = 0\n",
    "        for iou in ious:\n",
    "            if iou > th:\n",
    "                count_tp += 1.0\n",
    "        \n",
    "        acc.append(count_tp / float(len(ious)))\n",
    "        rob.append(th)\n",
    "    \n",
    "    return acc, rob\n"
   ]
  },
  {
   "cell_type": "code",
   "execution_count": 9,
   "metadata": {
    "collapsed": false
   },
   "outputs": [],
   "source": [
    "tracker = kcf.KCFTracker(True, False, True)  # hog, fixed_window, multiscale\n",
    "#if you use hog feature, there will be a short pause after you draw a first boundingbox, that is due to the use of Numba."
   ]
  },
  {
   "cell_type": "code",
   "execution_count": 10,
   "metadata": {
    "collapsed": false
   },
   "outputs": [],
   "source": [
    "# Get dataset dirs\n",
    "onlyFolders = [f for f in listdir(DatasetDir) if isfile(join(DatasetDir, f))!=1]\n",
    "onlyFolders.sort()"
   ]
  },
  {
   "cell_type": "code",
   "execution_count": 43,
   "metadata": {
    "collapsed": false
   },
   "outputs": [
    {
     "name": "stdout",
     "output_type": "stream",
     "text": [
      "(225, 225)\n",
      "(767, 767)\n",
      "(400, 400)\n",
      "(225, 225)\n",
      "(767, 767)\n",
      "(400, 400)\n",
      "(225, 225)\n",
      "(767, 767)\n",
      "(400, 400)\n",
      "(225, 225)\n",
      "(767, 767)\n",
      "(400, 400)\n",
      "(225, 225)\n",
      "(767, 767)\n",
      "(400, 400)\n",
      "(225, 225)\n",
      "(767, 767)\n",
      "(400, 400)\n",
      "(225, 225)\n",
      "(767, 767)\n",
      "(400, 400)\n",
      "(225, 225)\n",
      "(767, 767)\n",
      "(400, 400)\n",
      "(225, 225)\n",
      "(767, 767)\n",
      "(400, 400)\n",
      "(225, 225)\n",
      "(767, 767)\n",
      "(400, 400)\n"
     ]
    }
   ],
   "source": [
    "# Correlation Score threshold 0-100 %\n",
    "th_steps = 3\n",
    "iou_succ = 0.55\n",
    "total_datapoint = 0\n",
    "success_point = 0\n",
    "accuracy_data = []\n",
    "mean_iou_score = []\n",
    "avg_annotations_count = []\n",
    "for corr_th in xrange(1, 30, th_steps):\n",
    "    total_iou_error = 0\n",
    "    total_annon = 0\n",
    "    annotations_count = []\n",
    "    for ind, folder in enumerate(onlyFolders):\n",
    "        total_annon = 0\n",
    "\n",
    "        onlyPNGs = [f for f in listdir(join(join(DatasetDir,folder),'img')) if f.split('.')[1]=='jpg']\n",
    "        onlyPNGs.sort()\n",
    "        # Get the groundtruth data\n",
    "        ground_truth = extract_file(join(join(DatasetDir,folder),'groundtruth_rect.txt'))\n",
    "        #initialize the tracker for frame 1\n",
    "        bbox_est = []\n",
    "        iio = 0\n",
    "        tracker.init(ground_truth[0], cv2.imread(join(join(join(DatasetDir,folder),'img'),onlyPNGs[0])))\n",
    "        for im_name, bbox in zip(onlyPNGs, ground_truth):\n",
    "            iio += 1\n",
    "            im = cv2.imread(join(join(join(DatasetDir,folder),'img'),im_name))\n",
    "            boundingbox, val = tracker.update(im)\n",
    "            bbox_est.append(boundingbox)\n",
    "            boundingbox = map(int, boundingbox)\n",
    "            cv2.rectangle(im,(boundingbox[0],boundingbox[1]), (boundingbox[0]+boundingbox[2],boundingbox[1]+boundingbox[3]), (0,255,255), 1)\n",
    "            cv2.imshow('tracking', im)\n",
    "            cv2.waitKey(10)\n",
    "            # check the score \n",
    "            if(iio % (corr_th) == 0):\n",
    "                total_annon += 1\n",
    "                tracker.init(bbox, im)\n",
    "        # lets get IoU for all the bboxes\n",
    "        print(np.shape(ground_truth)[0], len(bbox_est))\n",
    "        matching_score = [get_intersection_over_union(\n",
    "            ground_truth[i], bbox_est[i]) for i in range(len(bbox_est))]\n",
    "        \n",
    "        total_iou_error += np.mean(np.array(matching_score))\n",
    "        total_datapoint += len(matching_score)\n",
    "        for iou in matching_score:\n",
    "            if iou > iou_succ:\n",
    "                success_point += 1.0\n",
    "        \n",
    "        annotations_count.append(float(total_annon)/float(len(onlyPNGs)))\n",
    "    \n",
    "    avg_annotations_count.append(float(sum(annotations_count))/len(onlyFolders))\n",
    "    # Append the accuracy data\n",
    "    accuracy_data.append(float(success_point)/float(total_datapoint) )\n",
    "    \n",
    "    # Append current mean iou score\n",
    "    mean_iou_score.append(total_iou_error/float(len(onlyFolders)))\n",
    "    "
   ]
  },
  {
   "cell_type": "code",
   "execution_count": 44,
   "metadata": {
    "collapsed": false
   },
   "outputs": [
    {
     "data": {
      "image/png": "[encoded data removed]",
      "text/plain": [
       "<matplotlib.figure.Figure at 0x7f968f45b7d0>"
      ]
     },
     "metadata": {},
     "output_type": "display_data"
    },
    {
     "data": {
      "image/png": "[encoded data removed]",
      "text/plain": [
       "<matplotlib.figure.Figure at 0x7f968e5e9f90>"
      ]
     },
     "metadata": {},
     "output_type": "display_data"
    },
    {
     "data": {
      "image/png": "[encoded data removed]",
      "text/plain": [
       "<matplotlib.figure.Figure at 0x7f968ebec290>"
      ]
     },
     "metadata": {},
     "output_type": "display_data"
    },
    {
     "data": {
      "image/png": "[encoded data removed]",
      "text/plain": [
       "<matplotlib.figure.Figure at 0x7f968f53df50>"
      ]
     },
     "metadata": {},
     "output_type": "display_data"
    }
   ],
   "source": [
    "# Now plot acc-bob curve\n",
    "plt.plot(avg_annotations_count, accuracy_data)\n",
    "plt.show()\n",
    "plt.plot(avg_annotations_count, mean_iou_score)\n",
    "plt.show()\n",
    "# Now plot acc-bob curve\n",
    "plt.plot(accuracy_data)\n",
    "plt.show()\n",
    "plt.plot(mean_iou_score)\n",
    "plt.show()"
   ]
  },
  {
   "cell_type": "code",
   "execution_count": 38,
   "metadata": {
    "collapsed": false
   },
   "outputs": [
    {
     "name": "stdout",
     "output_type": "stream",
     "text": [
      "[0.1400862068965517, 0.2273706896551724, 0.4513888888888889, 0.5885416666666666]\n"
     ]
    }
   ],
   "source": [
    "print(accuracy_data)"
   ]
  },
  {
   "cell_type": "code",
   "execution_count": null,
   "metadata": {
    "collapsed": true
   },
   "outputs": [],
   "source": []
  }
 ],
 "metadata": {
  "kernelspec": {
   "display_name": "Python [conda env:tensorflow_gpu]",
   "language": "python",
   "name": "conda-env-tensorflow_gpu-py"
  },
  "language_info": {
   "codemirror_mode": {
    "name": "ipython",
    "version": 2
   },
   "file_extension": ".py",
   "mimetype": "text/x-python",
   "name": "python",
   "nbconvert_exporter": "python",
   "pygments_lexer": "ipython2",
   "version": "2.7.12"
  }
 },
 "nbformat": 4,
 "nbformat_minor": 2
}
